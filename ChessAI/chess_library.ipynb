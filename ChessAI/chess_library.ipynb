{
 "cells": [
  {
   "cell_type": "markdown",
   "metadata": {},
   "source": [
    "# Exploring the `python-chess` Library"
   ]
  },
  {
   "cell_type": "code",
   "execution_count": 7,
   "metadata": {},
   "outputs": [],
   "source": [
    "import chess\n",
    "import chess.svg"
   ]
  },
  {
   "cell_type": "code",
   "execution_count": 8,
   "metadata": {},
   "outputs": [
    {
     "name": "stdout",
     "output_type": "stream",
     "text": [
      "Invalid Move. Try Again\n"
     ]
    }
   ],
   "source": [
    "board = chess.Board()\n",
    "\n",
    "while (not board.is_checkmate()):\n",
    "    x = input('Input Next Move:')\n",
    "\n",
    "    if (x == 'stop'):\n",
    "        break\n",
    "\n",
    "    try: \n",
    "        board.push_san(x)\n",
    "\n",
    "        write_path = 'current_board.svg'\n",
    "        open(write_path, 'w').write(chess.svg.board(board, size=350))\n",
    "\n",
    "    except ValueError:\n",
    "        print('Invalid Move. Try Again')\n",
    "        continue\n",
    "\n",
    "    "
   ]
  }
 ],
 "metadata": {
  "interpreter": {
   "hash": "26e77fea996e7b17dab424a3e390ed13ca50101500042e78c594e90eaa7cfd1a"
  },
  "kernelspec": {
   "display_name": "Python 3.9.6 64-bit ('env': venv)",
   "name": "python3"
  },
  "language_info": {
   "codemirror_mode": {
    "name": "ipython",
    "version": 3
   },
   "file_extension": ".py",
   "mimetype": "text/x-python",
   "name": "python",
   "nbconvert_exporter": "python",
   "pygments_lexer": "ipython3",
   "version": "3.9.6"
  },
  "orig_nbformat": 4
 },
 "nbformat": 4,
 "nbformat_minor": 2
}
